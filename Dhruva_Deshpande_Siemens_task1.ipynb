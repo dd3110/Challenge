{
  "nbformat": 4,
  "nbformat_minor": 0,
  "metadata": {
    "colab": {
      "provenance": []
    },
    "kernelspec": {
      "name": "python3",
      "display_name": "Python 3"
    },
    "language_info": {
      "name": "python"
    }
  },
  "cells": [
    {
      "cell_type": "code",
      "execution_count": 88,
      "metadata": {
        "colab": {
          "base_uri": "https://localhost:8080/"
        },
        "id": "-5KwhMFx7I8u",
        "outputId": "608d1360-4c84-432d-f0ee-6b233c92294e"
      },
      "outputs": [
        {
          "output_type": "stream",
          "name": "stdout",
          "text": [
            "[['aliens', 'echo', 'none', 'none', 'NLD-Headquarter'], ['predators', 'echo', 'none', 'none', 'NLD-Headquarter'], ['d&d_beholder', 'echo', 'echo', 'agent.venom', 'NLD-Headquarter'], ['d&d_devil', 'echo', 'echo', 'batman@dc-world.com', 'NLD-Headquarter'], ['d&d_lich', 'echo', 'echo', 'hulk', 'NLD-Headquarter'], ['d&d_mind_flayer', 'echo', 'echo', 'havok', 'NLD-Headquarter'], ['d&d_vampire', 'echo', 'echo', 'sunspot', 'NLD-Headquarter'], ['d&d_red_dragon', 'echo', 'echo', 'smasher', 'NLD-Headquarter'], ['d&d_hill_giant', 'echo', 'echo', 'hawkeye', 'NLD-Headquarter'], ['d&d_treant', 'echo', 'echo', 'hawkeye', 'NLD-Headquarter'], ['d&d_werewolf', 'echo', 'echo', 'rogue', 'NLD-Headquarter'], ['d&d_yuan-ti', 'echo', 'echo', 'abyss', 'NLD-Headquarter'], ['aliens', 'spider.man', 'none', 'none', 'COL-Headquarter'], ['predators', 'spider.man', 'none', 'none', 'COL-Headquarter'], ['d&d_beholder', 'spider.man', 'spider.man', 'agent.venom', 'COL-Headquarter'], ['d&d_devil', 'spider.man', 'spider.man', 'batman@dc-world.com', 'COL-Headquarter'], ['d&d_lich', 'spider.man', 'spider.man', 'hulk', 'COL-Headquarter'], ['d&d_mind_flayer', 'spider.man', 'spider.man', 'havok', 'COL-Headquarter'], ['d&d_vampire', 'spider.man', 'spider.man', 'sunspot', 'COL-Headquarter'], ['d&d_red_dragon', 'spider.man', 'spider.man', 'smasher', 'COL-Headquarter'], ['d&d_hill_giant', 'spider.man', 'spider.man', 'hawkeye', 'COL-Headquarter'], ['d&d_treant', 'spider.man', 'spider.man', 'hawkeye', 'COL-Headquarter'], ['d&d_werewolf', 'spider.man', 'spider.man', 'rogue', 'COL-Headquarter'], ['d&d_yuan-ti', 'spider.man', 'spider.man', 'abyss', 'COL-Headquarter'], ['aliens', 'stature', 'none', 'none', 'PAK-Headquarter'], ['predators', 'stature', 'none', 'none', 'PAK-Headquarter'], ['d&d_beholder', 'stature', 'stature', 'agent.venom', 'PAK-Headquarter'], ['d&d_devil', 'stature', 'stature', 'batman@dc-world.com', 'PAK-Headquarter'], ['d&d_lich', 'stature', 'stature', 'hulk', 'PAK-Headquarter'], ['d&d_mind_flayer', 'stature', 'stature', 'havok', 'PAK-Headquarter'], ['d&d_vampire', 'stature', 'stature', 'sunspot', 'PAK-Headquarter'], ['d&d_red_dragon', 'stature', 'stature', 'smasher', 'PAK-Headquarter'], ['d&d_hill_giant', 'stature', 'stature', 'hawkeye', 'PAK-Headquarter'], ['d&d_treant', 'stature', 'stature', 'hawkeye', 'PAK-Headquarter'], ['d&d_werewolf', 'stature', 'stature', 'rogue', 'PAK-Headquarter'], ['d&d_yuan-ti', 'stature', 'stature', 'abyss', 'PAK-Headquarter'], ['aliens', 'black.widow', 'none', 'none', 'CAN-Headquarter'], ['predators', 'black.widow', 'none', 'none', 'CAN-Headquarter'], ['d&d_beholder', 'black.widow', 'black.widow', 'agent.venom', 'CAN-Headquarter'], ['d&d_devil', 'black.widow', 'black.widow', 'batman@dc-world.com', 'CAN-Headquarter'], ['d&d_lich', 'black.widow', 'black.widow', 'hulk', 'CAN-Headquarter'], ['d&d_mind_flayer', 'black.widow', 'black.widow', 'havok', 'CAN-Headquarter'], ['d&d_vampire', 'black.widow', 'black.widow', 'sunspot', 'CAN-Headquarter'], ['d&d_red_dragon', 'black.widow', 'black.widow', 'smasher', 'CAN-Headquarter'], ['d&d_hill_giant', 'black.widow', 'black.widow', 'hawkeye', 'CAN-Headquarter'], ['d&d_treant', 'black.widow', 'black.widow', 'hawkeye', 'CAN-Headquarter'], ['d&d_werewolf', 'black.widow', 'black.widow', 'rogue', 'CAN-Headquarter'], ['d&d_yuan-ti', 'black.widow', 'black.widow', 'abyss', 'CAN-Headquarter'], ['aliens', 'deadpool', 'none', 'none', 'IND-Headquarter'], ['predators', 'deadpool', 'none', 'none', 'IND-Headquarter'], ['d&d_beholder', 'deadpool', 'deadpool', 'agent.venom', 'IND-Headquarter'], ['d&d_devil', 'deadpool', 'deadpool', 'batman@dc-world.com', 'IND-Headquarter'], ['d&d_lich', 'deadpool', 'deadpool', 'hulk', 'IND-Headquarter'], ['d&d_mind_flayer', 'deadpool', 'deadpool', 'havok', 'IND-Headquarter'], ['d&d_vampire', 'deadpool', 'deadpool', 'sunspot', 'IND-Headquarter'], ['d&d_red_dragon', 'deadpool', 'deadpool', 'smasher', 'IND-Headquarter'], ['d&d_hill_giant', 'deadpool', 'deadpool', 'hawkeye', 'IND-Headquarter'], ['d&d_treant', 'deadpool', 'deadpool', 'hawkeye', 'IND-Headquarter'], ['d&d_werewolf', 'deadpool', 'deadpool', 'rogue', 'IND-Headquarter'], ['d&d_yuan-ti', 'deadpool', 'deadpool', 'abyss', 'IND-Headquarter'], ['aliens', 'star.brand', 'none', 'none', 'MEX-Headquarter'], ['predators', 'star.brand', 'none', 'none', 'MEX-Headquarter'], ['d&d_beholder', 'star.brand', 'star.brand', 'agent.venom', 'MEX-Headquarter'], ['d&d_devil', 'shang-chi', 'shang-chi', 'batman@dc-world.com', 'MEX-Headquarter'], ['d&d_lich', 'sentry', 'sentry', 'hulk', 'MEX-Headquarter'], ['d&d_mind_flayer', 'star.brand', 'star.brand', 'havok', 'MEX-Headquarter'], ['d&d_vampire', 'star.brand', 'star.brand', 'sunspot', 'MEX-Headquarter'], ['d&d_red_dragon', 'star.brand', 'star.brand', 'smasher', 'MEX-Headquarter'], ['d&d_hill_giant', 'wolverine', 'wolverine', 'hawkeye', 'MEX-Headquarter'], ['d&d_treant', 'wolverine', 'wolverine', 'hawkeye', 'MEX-Headquarter'], ['d&d_werewolf', 'star.brand', 'star.brand', 'rogue', 'MEX-Headquarter'], ['d&d_yuan-ti', 'star.brand', 'star.brand', 'abyss', 'MEX-Headquarter'], ['aliens', 'amadeus_cho', 'none', 'none', 'TUR-Headquarter'], ['predators', 'amadeus_cho', 'none', 'none', 'TUR-Headquarter'], ['d&d_beholder', 'amadeus_cho', 'amadeus_cho', 'agent.venom', 'TUR-Headquarter'], ['d&d_devil', 'amadeus_cho', 'amadeus_cho', 'batman@dc-world.com', 'TUR-Headquarter'], ['d&d_lich', 'amadeus_cho', 'amadeus_cho', 'hulk', 'TUR-Headquarter'], ['d&d_mind_flayer', 'amadeus_cho', 'amadeus_cho', 'havok', 'TUR-Headquarter'], ['d&d_vampire', 'amadeus_cho', 'amadeus_cho', 'sunspot', 'TUR-Headquarter'], ['d&d_red_dragon', 'amadeus_cho', 'amadeus_cho', 'smasher', 'TUR-Headquarter'], ['d&d_hill_giant', 'amadeus_cho', 'amadeus_cho', 'hawkeye', 'TUR-Headquarter'], ['d&d_treant', 'amadeus_cho', 'amadeus_cho', 'hawkeye', 'TUR-Headquarter'], ['d&d_werewolf', 'amadeus_cho', 'amadeus_cho', 'rogue', 'TUR-Headquarter'], ['d&d_yuan-ti', 'amadeus_cho', 'amadeus_cho', 'abyss', 'TUR-Headquarter'], ['aliens', 'iron.man', 'none', 'none', 'DE-Headquarter'], ['predators', 'thor', 'none', 'none', 'DE-Headquarter'], ['d&d_beholder', 'wasp', 'wasp', 'wasp', 'DE-Headquarter'], ['d&d_devil', 'ant.man', 'ant.man', 'batman@dc-world.com', 'DE-Headquarter'], ['d&d_lich', 'hulk', 'hulk', 'hulk', 'DE-Headquarter'], ['d&d_mind_flayer', 'capatain.america', 'capatain.america', 'capatain.america', 'DE-Headquarter'], ['d&d_vampire', 'capatain.america', 'capatain.america', 'capatain.america', 'DE-Headquarter'], ['d&d_red_dragon', 'capatain.america', 'capatain.america', 'capatain.america', 'DE-Headquarter'], ['d&d_hill_giant', 'hawkeye', 'hawkeye', 'hawkeye', 'DE-Headquarter'], ['d&d_treant', 'hawkeye', 'hawkeye', 'hawkeye', 'DE-Headquarter'], ['d&d_werewolf', 'capatain.america', 'capatain.america', 'capatain.america', 'DE-Headquarter'], ['d&d_yuan-ti', 'capatain.america', 'capatain.america', 'capatain.america', 'DE-Headquarter'], ['aliens', 'nova', 'none', 'none', 'ARG-Headquarter'], ['predators', 'nova', 'none', 'none', 'ARG-Headquarter'], ['d&d_beholder', 'nova', 'nova', 'agent.venom', 'ARG-Headquarter'], ['d&d_devil', 'nova', 'nova', 'batman@dc-world.com', 'ARG-Headquarter'], ['d&d_lich', 'nova', 'nova', 'hulk', 'ARG-Headquarter'], ['d&d_mind_flayer', 'nova', 'nova', 'havok', 'ARG-Headquarter'], ['d&d_vampire', 'nova', 'nova', 'sunspot', 'ARG-Headquarter'], ['d&d_red_dragon', 'nova', 'nova', 'smasher', 'ARG-Headquarter'], ['d&d_hill_giant', 'nova', 'nova', 'hawkeye', 'ARG-Headquarter'], ['d&d_treant', 'nova', 'nova', 'hawkeye', 'ARG-Headquarter'], ['d&d_werewolf', 'nova', 'nova', 'rogue', 'ARG-Headquarter'], ['d&d_yuan-ti', 'nova', 'nova', 'abyss', 'ARG-Headquarter'], ['aliens', 'black.panther', 'none', 'none', 'UK-Headquarter'], ['predators', 'black.panther', 'none', 'none', 'UK-Headquarter'], ['d&d_beholder', 'black.panther', 'black.panther', 'nightmask', 'UK-Headquarter'], ['d&d_devil', 'black.panther', 'black.panther', 'black.panther', 'UK-Headquarter'], ['d&d_lich', 'black.panther', 'black.panther', 'hulk', 'UK-Headquarter'], ['d&d_mind_flayer', 'black.panther', 'black.panther', 'nightmask', 'UK-Headquarter'], ['d&d_vampire', 'black.panther', 'black.panther', 'nightmask', 'UK-Headquarter'], ['d&d_red_dragon', 'black.panther', 'black.panther', 'nightmask', 'UK-Headquarter'], ['d&d_hill_giant', 'hawkeye', 'hawkeye', 'hawkeye', 'UK-Headquarter'], ['d&d_treant', 'hawkeye', 'hawkeye', 'hawkeye', 'UK-Headquarter'], ['d&d_werewolf', 'black.panther', 'black.panther', 'nightmask', 'UK-Headquarter'], ['d&d_yuan-ti', 'black.panther', 'black.panther', 'nightmask', 'UK-Headquarter'], ['aliens', 'none', 'none', 'none', 'Ocean-Headquarter'], ['predators', 'none', 'none', 'none', 'Ocean-Headquarter'], ['d&d_beholder', 'hercules', 'hercules', 'agent.venom', 'Ocean-Headquarter'], ['d&d_devil', 'ant.man', 'ant.man', 'batman@dc-world.com', 'Ocean-Headquarter'], ['d&d_lich', 'hulk', 'hulk', 'hulk', 'Ocean-Headquarter'], ['d&d_mind_flayer', 'hercules', 'hercules', 'havok', 'Ocean-Headquarter'], ['d&d_vampire', 'hercules', 'hercules', 'sunspot', 'Ocean-Headquarter'], ['d&d_red_dragon', 'hercules', 'hercules', 'smasher', 'Ocean-Headquarter'], ['d&d_hill_giant', 'hawkeye', 'hawkeye', 'hawkeye', 'Ocean-Headquarter'], ['d&d_treant', 'hawkeye', 'hawkeye', 'hawkeye', 'Ocean-Headquarter'], ['d&d_werewolf', 'hercules', 'hercules', 'rogue', 'Ocean-Headquarter'], ['d&d_yuan-ti', 'hercules', 'hercules', 'abyss', 'Ocean-Headquarter'], ['aliens', 'valkyrie', 'none', 'none', 'UAE-Headquarter'], ['predators', 'valkyrie', 'none', 'none', 'UAE-Headquarter'], ['d&d_beholder', 'valkyrie', 'valkyrie', 'agent.venom', 'UAE-Headquarter'], ['d&d_devil', 'valkyrie', 'valkyrie', 'batman@dc-world.com', 'UAE-Headquarter'], ['d&d_lich', 'valkyrie', 'valkyrie', 'hulk', 'UAE-Headquarter'], ['d&d_mind_flayer', 'valkyrie', 'valkyrie', 'havok', 'UAE-Headquarter'], ['d&d_vampire', 'valkyrie', 'valkyrie', 'sunspot', 'UAE-Headquarter'], ['d&d_red_dragon', 'valkyrie', 'valkyrie', 'smasher', 'UAE-Headquarter'], ['d&d_hill_giant', 'valkyrie', 'valkyrie', 'hawkeye', 'UAE-Headquarter'], ['d&d_treant', 'valkyrie', 'valkyrie', 'hawkeye', 'UAE-Headquarter'], ['d&d_werewolf', 'valkyrie', 'valkyrie', 'rogue', 'UAE-Headquarter'], ['d&d_yuan-ti', 'valkyrie', 'valkyrie', 'abyss', 'UAE-Headquarter'], ['aliens', 'quicksilver', 'none', 'none', 'US-Headquarter'], ['predators', 'scarlet.witch', 'none', 'none', 'US-Headquarter'], ['d&d_beholder', 'hercules', 'hercules', 'agent.venom', 'US-Headquarter'], ['d&d_devil', 'ant.man', 'ant.man', 'batman@dc-world.com', 'US-Headquarter'], ['d&d_lich', 'hercules', 'hercules', 'hulk', 'US-Headquarter'], ['d&d_mind_flayer', 'hercules', 'hercules', 'havok', 'US-Headquarter'], ['d&d_vampire', 'hercules', 'hercules', 'sunspot', 'US-Headquarter'], ['d&d_red_dragon', 'hercules', 'hercules', 'smasher', 'US-Headquarter'], ['d&d_hill_giant', 'hawkeye', 'hawkeye', 'hawkeye', 'US-Headquarter'], ['d&d_treant', 'hawkeye', 'hawkeye', 'hawkeye', 'US-Headquarter'], ['d&d_werewolf', 'hercules', 'hercules', 'rogue', 'US-Headquarter'], ['d&d_yuan-ti', 'hercules', 'hercules', 'abyss', 'US-Headquarter'], ['aliens', 'vision', 'none', 'none', 'BRA-Headquarter'], ['predators', 'vision', 'none', 'none', 'BRA-Headquarter'], ['d&d_beholder', 'vision', 'vision', 'agent.venom', 'BRA-Headquarter'], ['d&d_devil', 'vision', 'vision', 'batman@dc-world.com', 'BRA-Headquarter'], ['d&d_lich', 'vision', 'vision', 'hulk', 'BRA-Headquarter'], ['d&d_mind_flayer', 'vision', 'vision', 'havok', 'BRA-Headquarter'], ['d&d_vampire', 'vision', 'vision', 'sunspot', 'BRA-Headquarter'], ['d&d_red_dragon', 'vision', 'vision', 'smasher', 'BRA-Headquarter'], ['d&d_hill_giant', 'vision', 'vision', 'hawkeye', 'BRA-Headquarter'], ['d&d_treant', 'vision', 'vision', 'hawkeye', 'BRA-Headquarter'], ['d&d_werewolf', 'vision', 'vision', 'rogue', 'BRA-Headquarter'], ['d&d_yuan-ti', 'vision', 'vision', 'abyss', 'BRA-Headquarter'], ['aliens', 'iron.fist', 'none', 'none', 'Aircraft-Headquarter'], ['predators', 'power.women', 'none', 'none', 'Aircraft-Headquarter'], ['d&d_beholder', 'doctor.strange', 'doctor.strange', 'doctor.strange', 'Aircraft-Headquarter'], ['d&d_devil', 'iron.fist', 'iron.fist', 'iron.fist', 'Aircraft-Headquarter'], ['d&d_lich', 'daredevil', 'daredevil', 'daredevil', 'Aircraft-Headquarter'], ['d&d_mind_flayer', 'storm', 'storm', 'storm', 'Aircraft-Headquarter'], ['d&d_vampire', 'storm', 'storm', 'storm', 'Aircraft-Headquarter'], ['d&d_red_dragon', 'quake', 'quake', 'quake', 'Aircraft-Headquarter'], ['d&d_hill_giant', 'iron.fist', 'iron.fist', 'iron.fist', 'Aircraft-Headquarter'], ['d&d_treant', 'red.hulk', 'red.hulk', 'red.hulk', 'Aircraft-Headquarter'], ['d&d_werewolf', 'capatain.america', 'capatain.america', 'capatain.america', 'Aircraft-Headquarter'], ['d&d_yuan-ti', 'captain.britain', 'captain.britain', 'captain.britain', 'Aircraft-Headquarter'], ['aliens', 'ares', 'none', 'none', 'NOR-Headquarter'], ['predators', 'ares', 'none', 'none', 'NOR-Headquarter'], ['d&d_beholder', 'ares', 'ares', 'agent.venom', 'NOR-Headquarter'], ['d&d_devil', 'ares', 'ares', 'batman@dc-world.com', 'NOR-Headquarter'], ['d&d_lich', 'ares', 'ares', 'hulk', 'NOR-Headquarter'], ['d&d_mind_flayer', 'ares', 'ares', 'havok', 'NOR-Headquarter'], ['d&d_vampire', 'ares', 'ares', 'sunspot', 'NOR-Headquarter'], ['d&d_red_dragon', 'ares', 'ares', 'smasher', 'NOR-Headquarter'], ['d&d_hill_giant', 'ares', 'ares', 'hawkeye', 'NOR-Headquarter'], ['d&d_treant', 'ares', 'ares', 'hawkeye', 'NOR-Headquarter'], ['d&d_werewolf', 'ares', 'ares', 'rogue', 'NOR-Headquarter'], ['d&d_yuan-ti', 'ares', 'ares', 'abyss', 'NOR-Headquarter']]\n",
            "                  0                  1                  2  \\\n",
            "0            aliens  echo@avengers.com               none   \n",
            "1         predators  echo@avengers.com               none   \n",
            "2      d&d_beholder  echo@avengers.com  echo@avengers.com   \n",
            "3         d&d_devil  echo@avengers.com  echo@avengers.com   \n",
            "4          d&d_lich  echo@avengers.com  echo@avengers.com   \n",
            "..              ...                ...                ...   \n",
            "187  d&d_red_dragon  ares@avengers.com  ares@avengers.com   \n",
            "188  d&d_hill_giant  ares@avengers.com  ares@avengers.com   \n",
            "189      d&d_treant  ares@avengers.com  ares@avengers.com   \n",
            "190    d&d_werewolf  ares@avengers.com  ares@avengers.com   \n",
            "191     d&d_yuan-ti  ares@avengers.com  ares@avengers.com   \n",
            "\n",
            "                            3                4  \n",
            "0                        none  NLD-Headquarter  \n",
            "1                        none  NLD-Headquarter  \n",
            "2    agent.venom@avengers.com  NLD-Headquarter  \n",
            "3         batman@dc-world.com  NLD-Headquarter  \n",
            "4           hulk@avengers.com  NLD-Headquarter  \n",
            "..                        ...              ...  \n",
            "187      smasher@avengers.com  NOR-Headquarter  \n",
            "188      hawkeye@avengers.com  NOR-Headquarter  \n",
            "189      hawkeye@avengers.com  NOR-Headquarter  \n",
            "190        rogue@avengers.com  NOR-Headquarter  \n",
            "191        abyss@avengers.com  NOR-Headquarter  \n",
            "\n",
            "[192 rows x 5 columns]\n"
          ]
        }
      ],
      "source": [
        "import pandas as pd\n",
        "import numpy as np\n",
        "import os\n",
        "\n",
        "#contacts folder uploaded as Data to google collab\n",
        "folder_path = 'Data'\n",
        "\n",
        "consolidated_data = []\n",
        "\n",
        "#script to get all the contacts in the same list and also add a column to differentiate HQ wise\n",
        "for file_name in os.listdir(folder_path):\n",
        "    if file_name.endswith('.txt'):\n",
        "        file_path = os.path.join(folder_path, file_name)\n",
        "        data_list = []\n",
        "        tup = ()\n",
        "        with open(file_path,\"r\") as file:\n",
        "          for line in file:\n",
        "              string1 = \"\"\n",
        "              string1 += line\n",
        "              tup = string1.split()\n",
        "              while len(tup) < 4:\n",
        "                tup.append(\"none\")\n",
        "              data_list.append(tup)\n",
        "        header = data_list[0]\n",
        "        hq_name = header[0]\n",
        "        rows = data_list[1:]\n",
        "        for i in rows:\n",
        "          i = i.append(hq_name)\n",
        "        for i in rows:\n",
        "          consolidated_data.append(i)\n",
        "\n",
        "print(consolidated_data)\n",
        "\n",
        "#script to generate emailid from the avenger name\n",
        "for i in consolidated_data:\n",
        "  if i[1] != \"none\" and \"dc-world\" not in i[1]:\n",
        "    i[1] += \"@avengers.com\"\n",
        "  if i[2] != \"none\" and \"dc-world\" not in i[2]:\n",
        "    i[2] +=\"@avengers.com\"\n",
        "  if i[3] != \"none\" and \"dc-world\" not in i[3]:\n",
        "    i[3] += \"@avengers.com\"\n",
        "\n",
        "df = pd.DataFrame(consolidated_data)\n",
        "\n",
        "print(df)\n"
      ]
    },
    {
      "cell_type": "code",
      "source": [
        "\n",
        "\n",
        "#script to import country wise data\n",
        "country_hq_list = []\n",
        "tup1 = ()\n",
        "with open(\"country_hq.txt\",\"r\") as file:\n",
        "   for line in file:\n",
        "       string1 = \"\"\n",
        "       string1 += line\n",
        "       tup1 = string1.split(\"\t\")\n",
        "       country_hq_list.append(tup1)\n",
        "\n",
        "header1 = country_hq_list[0]\n",
        "rows1 = country_hq_list[1:]\n",
        "\n",
        "df1 = pd.DataFrame(rows1, columns=header1)\n",
        "\n",
        "#script to consolidate data in a table as described in task 1.\n",
        "\n",
        "task1 = []\n",
        "for i in rows1:\n",
        "  x = i[2]\n",
        "  country = i[0]\n",
        "\n",
        "\n",
        "  for z in consolidated_data:\n",
        "    temp_tup1 = []\n",
        "    temp_tup2 = []\n",
        "    temp_tup3 = []\n",
        "    if z[4] == x:\n",
        "\n",
        "      if z[1] != \"none\":\n",
        "        temp_tup1.append(country)\n",
        "        #print(temp_tup1)\n",
        "        temp_tup1.append(z[0])\n",
        "        #print(temp_tup1)\n",
        "        temp_tup1.append(\"attack\")\n",
        "        #print(temp_tup1)\n",
        "        temp_tup1.append(z[1])\n",
        "        #print(temp_tup1)\n",
        "        task1.append(temp_tup1)\n",
        "\n",
        "      if z[2] != \"none\":\n",
        "        temp_tup2.append(country)\n",
        "        temp_tup2.append(z[0])\n",
        "        temp_tup2.append(\"defense\")\n",
        "        temp_tup2.append(z[2])\n",
        "        task1.append(temp_tup2)\n",
        "\n",
        "      if z[3] != \"none\":\n",
        "        temp_tup3.append(country)\n",
        "        temp_tup3.append(z[0])\n",
        "        temp_tup3.append(\"heal\")\n",
        "        temp_tup3.append(z[3])\n",
        "        task1.append(temp_tup3)\n",
        "\n",
        "\n",
        "\n",
        "\n",
        "df_task1 = pd.DataFrame(task1, columns= ['Country', 'Invader_Species', 'Role', 'Email'])\n",
        "\n",
        "print(df_task1.head(1000))\n",
        "\n",
        "#script to generate a csv file from the above scripts.\n",
        "\n",
        "df_task1.to_csv(\"Table_for_Task1.csv\", sep='\\t')"
      ],
      "metadata": {
        "colab": {
          "base_uri": "https://localhost:8080/"
        },
        "id": "Z6N_DKOG7RZT",
        "outputId": "d6ab0bb7-65e3-4662-f8f2-a4b9d955e11f"
      },
      "execution_count": 90,
      "outputs": [
        {
          "output_type": "stream",
          "name": "stdout",
          "text": [
            "                Country Invader_Species     Role                     Email\n",
            "0           Afghanistan          aliens   attack      stature@avengers.com\n",
            "1           Afghanistan       predators   attack      stature@avengers.com\n",
            "2           Afghanistan    d&d_beholder   attack      stature@avengers.com\n",
            "3           Afghanistan    d&d_beholder  defense      stature@avengers.com\n",
            "4           Afghanistan    d&d_beholder     heal  agent.venom@avengers.com\n",
            "..                  ...             ...      ...                       ...\n",
            "995  Dominican Republic    d&d_beholder  defense   star.brand@avengers.com\n",
            "996  Dominican Republic    d&d_beholder     heal  agent.venom@avengers.com\n",
            "997  Dominican Republic       d&d_devil   attack    shang-chi@avengers.com\n",
            "998  Dominican Republic       d&d_devil  defense    shang-chi@avengers.com\n",
            "999  Dominican Republic       d&d_devil     heal       batman@dc-world.com\n",
            "\n",
            "[1000 rows x 4 columns]\n"
          ]
        }
      ]
    },
    {
      "cell_type": "code",
      "source": [
        "\n"
      ],
      "metadata": {
        "id": "yWSgsr6HSbMo"
      },
      "execution_count": 89,
      "outputs": []
    }
  ]
}