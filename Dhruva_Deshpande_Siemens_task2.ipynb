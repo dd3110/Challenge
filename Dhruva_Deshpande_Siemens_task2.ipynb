{
  "nbformat": 4,
  "nbformat_minor": 0,
  "metadata": {
    "colab": {
      "provenance": []
    },
    "kernelspec": {
      "name": "python3",
      "display_name": "Python 3"
    },
    "language_info": {
      "name": "python"
    }
  },
  "cells": [
    {
      "cell_type": "code",
      "execution_count": 378,
      "metadata": {
        "id": "-5KwhMFx7I8u"
      },
      "outputs": [],
      "source": [
        "from ast import Pass\n",
        "import pandas as pd\n",
        "import numpy as np\n",
        "import os\n",
        "\n",
        "#contacts folder uploaded as Data to google collab\n",
        "folder_path = 'Data'\n",
        "\n",
        "consolidated_data = []\n",
        "\n",
        "#script to get all the contacts in the same list and also add a column to differentiate HQ wise\n",
        "for file_name in os.listdir(folder_path):\n",
        "    if file_name.endswith('.txt'):\n",
        "        file_path = os.path.join(folder_path, file_name)\n",
        "        data_list = []\n",
        "        tup = ()\n",
        "        with open(file_path,\"r\") as file:\n",
        "          for line in file:\n",
        "              string1 = \"\"\n",
        "              string1 += line\n",
        "              tup = string1.split()\n",
        "              while len(tup) < 4:\n",
        "                tup.append(\"none\")\n",
        "              data_list.append(tup)\n",
        "        header = data_list[0]\n",
        "        hq_name = header[0]\n",
        "        rows = data_list[1:]\n",
        "        for i in rows:\n",
        "          i = i.append(hq_name)\n",
        "        for i in rows:\n",
        "          consolidated_data.append(i)\n",
        "\n",
        "df_pivot = consolidated_data\n"
      ]
    },
    {
      "cell_type": "code",
      "source": [
        "#creating a list of all Heros\n",
        "\n",
        "characters = [\n",
        "    \"stature\", \"agent.venom\", \"batman\", \"hulk\", \"havok\", \"sunspot\", \"smasher\",\n",
        "    \"hawkeye\", \"rogue\", \"abyss\", \"iron.man\", \"thor\", \"wasp\", \"ant.man\",\n",
        "    \"capatain.america\", \"nova\", \"valkyrie\", \"star.brand\", \"shang-chi\", \"sentry\",\n",
        "    \"wolverine\", \"vision\", \"black.widow\", \"spider.man\", \"deadpool\",\n",
        "    \"quicksilver\", \"scarlet.witch\", \"hercules\", \"black.panther\", \"nightmask\",\n",
        "    \"echo\", \"ares\", \"amadeus_cho\", \"iron.fist\", \"power.women\", \"doctor.strange\",\n",
        "    \"daredevil\", \"storm\", \"quake\", \"red.hulk\", \"captain.britain\"\n",
        "]\n",
        "#initiating a loop to go through all the data.\n",
        "list_for_pivot = []\n",
        "for i in characters:\n",
        "  str(i)\n",
        "  att = \"\"\n",
        "  for x in df_pivot:\n",
        "     if i in x:\n",
        "\n",
        "      Temppp = []\n",
        "\n",
        "      a = str(x[1])\n",
        "\n",
        "      d = str(x[2])\n",
        "      h = str(x[3])\n",
        "\n",
        "\n",
        "\n",
        "      if a == i and d != i and h != i:\n",
        "        att = \"A\"\n",
        "\n",
        "      if a != i and d == i and h != i:\n",
        "        att = \"D\"\n",
        "\n",
        "      if a != i and d != i and h == i:\n",
        "        att = \"H\"\n",
        "\n",
        "      if a == i and d == i and h != i:\n",
        "        att = \"AD\"\n",
        "\n",
        "      if d == i and h == i and a!= i:\n",
        "        att = \"DH\"\n",
        "\n",
        "      if a == i and h == i and d != i:\n",
        "        att = \"AH\"\n",
        "\n",
        "      if a == i and d == i and h == i:\n",
        "        att = \"ADH\"\n",
        "\n",
        "\n",
        "\n",
        "      #print(att)\n",
        "      if att is None:\n",
        "        att = \"check\"\n",
        "      Temppp.append(i)\n",
        "      Temppp.append(x[0])\n",
        "      Temppp.append(x[4])\n",
        "      Temppp.append(att)\n",
        "\n",
        "\n",
        "\n",
        "\n",
        "\n",
        "     list_for_pivot.append(Temppp)\n",
        "#print(list_for_pivot)\n",
        "\n",
        "df_pivot_list = pd.DataFrame(list_for_pivot, columns=[\"Hero\", \"Invader_Species\", \"HQ\", \"Role\"])\n",
        "df_pivot_list = df_pivot_list.drop_duplicates()\n",
        "print(df_pivot_list)\n",
        "\n"
      ],
      "metadata": {
        "colab": {
          "base_uri": "https://localhost:8080/"
        },
        "id": "eO76vj5eRX-E",
        "outputId": "8a8c8e73-8ff8-455a-dfce-286d71c240f0"
      },
      "execution_count": 379,
      "outputs": [
        {
          "output_type": "stream",
          "name": "stdout",
          "text": [
            "                 Hero  Invader_Species                    HQ Role\n",
            "0     captain.britain      d&d_yuan-ti  Aircraft-Headquarter  ADH\n",
            "24            stature           aliens       PAK-Headquarter    A\n",
            "25            stature        predators       PAK-Headquarter    A\n",
            "26            stature     d&d_beholder       PAK-Headquarter   AD\n",
            "27            stature        d&d_devil       PAK-Headquarter   AD\n",
            "...               ...              ...                   ...  ...\n",
            "7084        daredevil         d&d_lich  Aircraft-Headquarter  ADH\n",
            "7277            storm  d&d_mind_flayer  Aircraft-Headquarter  ADH\n",
            "7278            storm      d&d_vampire  Aircraft-Headquarter  ADH\n",
            "7471            quake   d&d_red_dragon  Aircraft-Headquarter  ADH\n",
            "7665         red.hulk       d&d_treant  Aircraft-Headquarter  ADH\n",
            "\n",
            "[309 rows x 4 columns]\n",
            "Invader_Species aliens\n",
            "HQ                    \n",
            "DE-Headquarter       A\n"
          ]
        }
      ]
    },
    {
      "cell_type": "code",
      "source": [
        "#Creating a pivot table.\n",
        "\n",
        "pivot_table = df_pivot_list[df_pivot_list.Hero==\"iron.man\"].pivot_table(\n",
        "    index='HQ',\n",
        "    columns='Invader_Species',\n",
        "    values='Role',\n",
        "    aggfunc=lambda x: ', '.join(x)\n",
        ")\n",
        "\n",
        "#Fill NaN values with an empty string for better readability\n",
        "pivot_table = pivot_table.fillna('')\n",
        "\n",
        " #Print the pivot table\n",
        "print(pivot_table)"
      ],
      "metadata": {
        "colab": {
          "base_uri": "https://localhost:8080/"
        },
        "id": "yqm_sQktrZcl",
        "outputId": "3ec5db78-5645-4856-d43e-5d6d06e76ae8"
      },
      "execution_count": 380,
      "outputs": [
        {
          "output_type": "stream",
          "name": "stdout",
          "text": [
            "Invader_Species aliens\n",
            "HQ                    \n",
            "DE-Headquarter       A\n"
          ]
        }
      ]
    }
  ]
}